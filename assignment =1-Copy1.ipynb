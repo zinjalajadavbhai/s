{
 "cells": [
  {
   "cell_type": "markdown",
   "id": "243fe75c",
   "metadata": {},
   "source": [
    "# Q1. Create one variable containing following type of data:\n",
    "       \n",
    "       (i) string\n",
    "       (ii) list\n",
    "       (iii) float\n",
    "       (iv) tuple\n",
    "       "
   ]
  },
  {
   "cell_type": "code",
   "execution_count": 3,
   "id": "85c351dc",
   "metadata": {},
   "outputs": [],
   "source": [
    "var_string = \"Hello\"\n",
    "\n",
    "var_list = ['jadavbhai',7,90.0,4+5j,[1,2,3]]\n",
    "\n",
    "var_float = 9.0\n",
    "\n",
    "var_tuple =('jadavbhai',9,8.0,6+7j,[1,2,3])"
   ]
  },
  {
   "cell_type": "markdown",
   "id": "ef6ab5cd-5419-4768-b8e4-ce80cabaf6b7",
   "metadata": {},
   "source": [
    "# Q2. Given are some following variables containing data:\n",
    "          \n",
    "          \n",
    "          (i) var1  =  ''\n",
    "          (ii) var2 ='[DS, ML .Python]'\n",
    "          (iii) var3 =['DS','ML','Python']\n",
    "          (iv) var4 =1.\n",
    "      \n",
    "      What will be the data type of the above given variable\n",
    "      \n",
    "      \n",
    "\n",
    " #(i)\n",
    " var1 = ''\n",
    " type(var1)"
   ]
  },
  {
   "cell_type": "code",
   "execution_count": 6,
   "id": "68043cff-d401-43f4-817f-918feed43812",
   "metadata": {},
   "outputs": [
    {
     "data": {
      "text/plain": [
       "str"
      ]
     },
     "execution_count": 6,
     "metadata": {},
     "output_type": "execute_result"
    }
   ],
   "source": [
    "#(i)\n",
    "var1 = ''\n",
    "type(var1)"
   ]
  },
  {
   "cell_type": "code",
   "execution_count": null,
   "id": "021cc54d",
   "metadata": {},
   "outputs": [],
   "source": [
    "#(ii)\n",
    "var2 ='[ DS ,ML,Python ]'\n",
    "type(var2)"
   ]
  },
  {
   "cell_type": "code",
   "execution_count": 16,
   "id": "3ffd46f8",
   "metadata": {},
   "outputs": [
    {
     "data": {
      "text/plain": [
       "list"
      ]
     },
     "execution_count": 16,
     "metadata": {},
     "output_type": "execute_result"
    }
   ],
   "source": [
    "#(iii)\n",
    "var3 = ['DS','ML','PYTHON']\n",
    "type(var3)"
   ]
  },
  {
   "cell_type": "code",
   "execution_count": 5,
   "id": "2f82ff75",
   "metadata": {},
   "outputs": [
    {
     "data": {
      "text/plain": [
       "float"
      ]
     },
     "execution_count": 5,
     "metadata": {},
     "output_type": "execute_result"
    }
   ],
   "source": [
    "#(iv)\n",
    "var4 = 1.\n",
    "type(var4)\n"
   ]
  },
  {
   "cell_type": "markdown",
   "id": "d428cd1e",
   "metadata": {},
   "source": [
    "# Q3. Explain the use of the following operators using an example:\n",
    "       \n",
    "       \n",
    "      (i) /\n",
    "      (ii) %\n",
    "      (iii) //\n",
    "      (iv) **\n",
    "      \n",
    "      "
   ]
  },
  {
   "cell_type": "code",
   "execution_count": 9,
   "id": "2c0d3d14",
   "metadata": {},
   "outputs": [
    {
     "data": {
      "text/plain": [
       "16.666666666666668"
      ]
     },
     "execution_count": 9,
     "metadata": {},
     "output_type": "execute_result"
    }
   ],
   "source": [
    "#(i) / : It gives you the divisible value of the 2 numbers.\n",
    "div = 50/3 \n",
    "div"
   ]
  },
  {
   "cell_type": "code",
   "execution_count": 12,
   "id": "9b892300",
   "metadata": {},
   "outputs": [
    {
     "data": {
      "text/plain": [
       "1"
      ]
     },
     "execution_count": 12,
     "metadata": {},
     "output_type": "execute_result"
    }
   ],
   "source": [
    "#(ii) % : It gives you the reminder value of the 2 numbers.\n",
    "rem = 100%3\n",
    "rem"
   ]
  },
  {
   "cell_type": "code",
   "execution_count": 18,
   "id": "ce8738b7",
   "metadata": {},
   "outputs": [
    {
     "name": "stdout",
     "output_type": "stream",
     "text": [
      "33 33\n"
     ]
    }
   ],
   "source": [
    "#(i)// : It gives you the flour value of the 2 numbers. It like the integer part of the divisble value\n",
    "flour = 100//3\n",
    "\n",
    "#Alternative\n",
    "div_flour = int(100/3)\n",
    "\n",
    "print(flour, div_flour)"
   ]
  },
  {
   "cell_type": "code",
   "execution_count": 19,
   "id": "7d38a759",
   "metadata": {},
   "outputs": [
    {
     "data": {
      "text/plain": [
       "40353607"
      ]
     },
     "execution_count": 19,
     "metadata": {},
     "output_type": "execute_result"
    }
   ],
   "source": [
    "#(iv) **:It use for power value. second place number denotes the power of first place number\n",
    "\n",
    "pow = 7**9\n",
    "pow"
   ]
  },
  {
   "cell_type": "markdown",
   "id": "a6e2ef23",
   "metadata": {},
   "source": [
    "# 4. Create a list of length 10 of your choice containing multiple types data . using for loop print the element and its data type."
   ]
  },
  {
   "cell_type": "code",
   "execution_count": 31,
   "id": "886ce7cc",
   "metadata": {},
   "outputs": [
    {
     "name": "stdout",
     "output_type": "stream",
     "text": [
      "Element \"sting\" type is  <class 'str'>\n",
      "Element \"3\" type is  <class 'int'>\n",
      "Element \"20.0\" type is  <class 'float'>\n",
      "Element \"(3+4j)\" type is  <class 'complex'>\n",
      "Element \"[1, 2, 3]\" type is  <class 'list'>\n",
      "Element \"True\" type is  <class 'bool'>\n",
      "Element \"20\" type is  <class 'int'>\n",
      "Element \"3.33334\" type is  <class 'float'>\n",
      "Element \"4\" type is  <class 'int'>\n",
      "Element \"0b1010\" type is  <class 'str'>\n"
     ]
    }
   ],
   "source": [
    "lst = ['sting',3,20.0,3+4j,[1,2,3],True,20,3.33334,0b100,bin(10)]\n",
    "\n",
    "for i in lst:\n",
    "    print (f'Element \"{i}\" type is  {type(i)}')\n",
    "          "
   ]
  },
  {
   "cell_type": "markdown",
   "id": "f8a384b3",
   "metadata": {},
   "source": [
    "# Q5. Using a while loop, verify if the number A is purely divisible by number B and if so then how many times it can be divisible."
   ]
  },
  {
   "cell_type": "code",
   "execution_count": null,
   "id": "7649a14e",
   "metadata": {},
   "outputs": [
    {
     "name": "stdout",
     "output_type": "stream",
     "text": [
      "Enter number A:32020\n",
      "Enter number B:1\n"
     ]
    }
   ],
   "source": [
    "A = int(input(\"Enter number A:\"))\n",
    "temp_A = A\n",
    "\n",
    "B = int(input(\"Enter number B:\"))\n",
    "\n",
    "count = 0\n",
    "while temp_A%B==0:\n",
    "    count+=1\n",
    "    temp_A = temp_A/B\n",
    "    \n",
    "    \n",
    "if count > 0:\n",
    "    print(f'{A} is purely divisible by {B} in {count} number of times')\n",
    "else:\n",
    "    print(f'{A} is  not divisible by {B}')"
   ]
  },
  {
   "cell_type": "markdown",
   "id": "6ad93360",
   "metadata": {},
   "source": [
    "# Q6.Create a list  containing 25 int type data. Using for loop and if-else condition print if the element is divisible by 3 or not."
   ]
  },
  {
   "cell_type": "code",
   "execution_count": 1,
   "id": "26e74c82",
   "metadata": {},
   "outputs": [
    {
     "name": "stdout",
     "output_type": "stream",
     "text": [
      "0 is divisible by 3\n",
      "1 is not divisible by 3 \n",
      "2 is not divisible by 3 \n",
      "3 is divisible by 3\n",
      "4 is not divisible by 3 \n",
      "5 is not divisible by 3 \n",
      "6 is divisible by 3\n",
      "7 is not divisible by 3 \n",
      "8 is not divisible by 3 \n",
      "9 is divisible by 3\n",
      "10 is not divisible by 3 \n",
      "11 is not divisible by 3 \n",
      "12 is divisible by 3\n",
      "13 is not divisible by 3 \n",
      "14 is not divisible by 3 \n",
      "15 is divisible by 3\n",
      "16 is not divisible by 3 \n",
      "17 is not divisible by 3 \n",
      "18 is divisible by 3\n",
      "19 is not divisible by 3 \n",
      "20 is not divisible by 3 \n",
      "21 is divisible by 3\n",
      "22 is not divisible by 3 \n",
      "23 is not divisible by 3 \n",
      "24 is divisible by 3\n"
     ]
    }
   ],
   "source": [
    "lst = range(25)\n",
    "\n",
    "for i  in   lst:\n",
    "    if i%3 == 0:\n",
    "        print(f'{i} is divisible by 3')\n",
    "    else:\n",
    "        print(f'{i} is not divisible by 3 ')"
   ]
  },
  {
   "cell_type": "markdown",
   "id": "21dd92bd",
   "metadata": {},
   "source": [
    "# Q7. What  do you understand about mutable and immutable data type? Give examples for   both showing   this property.\n",
    "\n",
    "\n",
    "ans. mutable data type like a list  in which we remove , update , append or replace the index element on the bases of its index value ."
   ]
  },
  {
   "cell_type": "code",
   "execution_count": 1,
   "id": "376255b4",
   "metadata": {},
   "outputs": [
    {
     "data": {
      "text/plain": [
       "['hello', 90.0, (3+4j), [1, 2, 3], 'Append']"
      ]
     },
     "execution_count": 1,
     "metadata": {},
     "output_type": "execute_result"
    }
   ],
   "source": [
    "lst = ['string',3, 90.0, 3+4j , [1,2,3]]\n",
    "\n",
    "lst[0] = 'hello'\n",
    "lst. append(\"Append\")\n",
    "lst.remove(3)\n",
    "\n",
    "lst"
   ]
  },
  {
   "cell_type": "markdown",
   "id": "a630f481",
   "metadata": {},
   "source": [
    "but in immutable data type like string in which we can not remove , update , append or replace the index element on the bases of its index value."
   ]
  },
  {
   "cell_type": "code",
   "execution_count": 3,
   "id": "42b030b3",
   "metadata": {},
   "outputs": [
    {
     "data": {
      "text/plain": [
       "'y'"
      ]
     },
     "execution_count": 3,
     "metadata": {},
     "output_type": "execute_result"
    }
   ],
   "source": [
    "string = \"Hello\"\n",
    "\n",
    "string = 'y'\n",
    "\n",
    "string"
   ]
  },
  {
   "cell_type": "code",
   "execution_count": null,
   "id": "f5188aed",
   "metadata": {},
   "outputs": [],
   "source": []
  },
  {
   "cell_type": "code",
   "execution_count": null,
   "id": "a3112ef0",
   "metadata": {},
   "outputs": [],
   "source": []
  }
 ],
 "metadata": {
  "kernelspec": {
   "display_name": "Python 3 (ipykernel)",
   "language": "python",
   "name": "python3"
  },
  "language_info": {
   "codemirror_mode": {
    "name": "ipython",
    "version": 3
   },
   "file_extension": ".py",
   "mimetype": "text/x-python",
   "name": "python",
   "nbconvert_exporter": "python",
   "pygments_lexer": "ipython3",
   "version": "3.10.8"
  }
 },
 "nbformat": 4,
 "nbformat_minor": 5
}
